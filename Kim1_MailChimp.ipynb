{
 "cells": [
  {
   "cell_type": "markdown",
   "metadata": {
    "id": "W-gpRQ1npQ8Q"
   },
   "source": [
    "# Formal Release"
   ]
  },
  {
   "cell_type": "markdown",
   "metadata": {
    "id": "ot747OU9pPSj"
   },
   "source": [
    "Task: On this task, you'll be creating a script using Mailchimp's API. The script must execute the following process in order:\n",
    "- Create a new List.\n",
    "- Add your email to the list.\n",
    "- Add our emails to the list. (ryan.ramadhan@ematicsolutions.com, edwin.melendez@ematicsolutions.com, christianto@ematicsolutions.com)\n",
    "- Send a campaign to the list.\n",
    "- Get campaign info and print output.\n",
    "Get information about a specific campaign.\n",
    "\n",
    "Notes:\n",
    "- You can use any programming language that you're comfortable with. Only creation of the Mailchimp account should be done manually. \n",
    "- You can use packages/plugins if needed."
   ]
  },
  {
   "cell_type": "markdown",
   "metadata": {
    "id": "SOs_lvTxpk6c"
   },
   "source": [
    "## initialization"
   ]
  },
  {
   "cell_type": "code",
   "execution_count": 1,
   "metadata": {
    "id": "cwFSdzHDphQO"
   },
   "outputs": [],
   "source": [
    "import json\n",
    "import requests\n",
    "import pprint\n",
    "\n",
    "# mailchimp api_key\n",
    "MAILCHIMP_API_KEY = 'f5b4a1c90813f8d3dc83bca2cbe7d57a-us18'\n",
    "us_ = MAILCHIMP_API_KEY.split('-')[1]\n",
    "# rearrange URL\n",
    "mailchimp_api_root = \"https://\" + us_ + \".api.mailchimp.com/3.0/\""
   ]
  },
  {
   "cell_type": "markdown",
   "metadata": {
    "id": "MDN1s7_Pp7Sc"
   },
   "source": [
    "## Create a new List"
   ]
  },
  {
   "cell_type": "code",
   "execution_count": 2,
   "metadata": {
    "id": "-pyumjZ_p87c"
   },
   "outputs": [],
   "source": [
    "def get_all_lists():\n",
    "  \"\"\"\n",
    "  query all lists\n",
    "  \"\"\"\n",
    "  endpoint = mailchimp_api_root + \"lists/\" \n",
    "  resp = requests.get(endpoint, auth=('apikey', MAILCHIMP_API_KEY)) \n",
    "  json_obj = json.loads(resp.text)\n",
    "  print(\"Total lists:\", len(json_obj['lists']) )\n",
    "  #all_list.keys()\n",
    "  #dict_keys(['lists', 'total_items', 'constraints', '_links'])\n",
    "\n",
    "  #pprint.pprint(json.loads(resp.text))\n",
    "\n",
    "  #all_list['lists'][0].keys()\n",
    "  #dict_keys(['id', 'web_id', 'name', 'contact', 'permission_reminder', 'use_archive_bar', 'campaign_defaults', 'notify_on_subscribe', 'notify_on_unsubscribe', 'date_created', 'list_rating', 'email_type_option', 'subscribe_url_short', 'subscribe_url_long', 'beamer_address', 'visibility', 'double_optin', 'has_welcome', 'marketing_permissions', 'modules', 'stats', '_links'])\n",
    "  for i in range(0, len(json_obj['lists'])):\n",
    "      print(\"id = \", json_obj['lists'][i]['id'])\n",
    "  return json_obj, json_obj['lists'][0]['id'] # return the first list id to do below operations"
   ]
  },
  {
   "cell_type": "code",
   "execution_count": 3,
   "metadata": {
    "id": "_8u6xExVqurv"
   },
   "outputs": [],
   "source": [
    "def add_list(new_list_name):\n",
    "  \"\"\" \n",
    "  add list\n",
    "  \"\"\"\n",
    "  endpoint = mailchimp_api_root + \"lists\" \n",
    "  payload = json.dumps({\n",
    "              \"name\": new_list_name,\n",
    "              \"contact\": \n",
    "              {\n",
    "                  \"company\": \"Test Company\",\n",
    "                  \"address1\": \"Taipei\",\n",
    "                  \"city\": \"Taipei\",\n",
    "                  \"state\": \"Taipei\",\n",
    "                  \"zip\": \"100\",\n",
    "                  \"country\": \"US\"\n",
    "              },\n",
    "              \"permission_reminder\": \"This is only a test\",\n",
    "              \"campaign_defaults\": \n",
    "              {\n",
    "                  \"from_name\": \"Kim Lu\",\n",
    "                  \"from_email\": \"kno15320@gmail.com\",\n",
    "                  \"subject\": \"Test mailchimp\",\n",
    "                  \"language\": \"zh-tw\"\n",
    "              },\n",
    "              \"email_type_option\": True\n",
    "          })\n",
    "\n",
    "  resp = requests.post(endpoint, auth=('apikey', MAILCHIMP_API_KEY), data=payload) \n",
    "  json_obj = json.loads(resp.text)\n",
    "  print(json_obj)\n",
    "  return json_obj"
   ]
  },
  {
   "cell_type": "code",
   "execution_count": 4,
   "metadata": {
    "colab": {
     "base_uri": "https://localhost:8080/"
    },
    "id": "QooQBMm6qJIf",
    "outputId": "b3b64ee7-6d19-4823-8f57-0fe0ae53a383"
   },
   "outputs": [
    {
     "name": "stdout",
     "output_type": "stream",
     "text": [
      "Total lists: 1\n",
      "id =  a40f122c8f\n"
     ]
    }
   ],
   "source": [
    "all_list, list_id= get_all_lists()"
   ]
  },
  {
   "cell_type": "code",
   "execution_count": 5,
   "metadata": {
    "colab": {
     "base_uri": "https://localhost:8080/"
    },
    "id": "MnalNzIbL-v6",
    "outputId": "37d448d2-ecc5-4385-d7ca-2e75f2336932"
   },
   "outputs": [
    {
     "name": "stdout",
     "output_type": "stream",
     "text": [
      "In below operations, we use list_id= a40f122c8f\n"
     ]
    }
   ],
   "source": [
    "print(\"In below operations, we use list_id=\",list_id)"
   ]
  },
  {
   "cell_type": "code",
   "execution_count": 6,
   "metadata": {
    "colab": {
     "base_uri": "https://localhost:8080/"
    },
    "id": "QkLvGWLgrtI3",
    "outputId": "b8ac86ea-87d7-47a9-b115-c2f61039811e"
   },
   "outputs": [
    {
     "name": "stdout",
     "output_type": "stream",
     "text": [
      "{'type': 'https://mailchimp.com/developer/marketing/docs/errors/', 'title': 'User action not permitted', 'status': 403, 'detail': 'User does not have access to the requested operation', 'instance': '141f31d2-5170-4161-70d3-98847880cf95'}\n"
     ]
    }
   ],
   "source": [
    "new_list=add_list(\"Kim new list\")"
   ]
  },
  {
   "cell_type": "markdown",
   "metadata": {
    "id": "S5fGsBHlsGL3"
   },
   "source": [
    "## Add your email to the list."
   ]
  },
  {
   "cell_type": "code",
   "execution_count": 7,
   "metadata": {
    "id": "0IMLTrPAsHTW"
   },
   "outputs": [],
   "source": [
    "def add_user_to_a_list(list_id, user_email):\n",
    "  \"\"\"\n",
    "  subscribing user to a list\n",
    "  \"\"\"\n",
    "  endpoint = mailchimp_api_root + \"lists/\" + list_id + \"/members/\"\n",
    "\n",
    "  payload = json.dumps({\"email_address\": user_email, \"status\": \"subscribed\"})\n",
    "  resp = requests.post(endpoint, auth=('apikey', MAILCHIMP_API_KEY), data=payload) "
   ]
  },
  {
   "cell_type": "code",
   "execution_count": 8,
   "metadata": {
    "id": "P40ZaXEjCIzu"
   },
   "outputs": [],
   "source": [
    "def get_all_users_from_a_list(list_id):\n",
    "  \"\"\"\n",
    "  retrieving all users from a list\n",
    "  \"\"\"\n",
    "  endpoint = mailchimp_api_root + \"lists/\" + list_id + \"/members/\"\n",
    "  resp = requests.get(endpoint, auth=('apikey', MAILCHIMP_API_KEY))\n",
    "\n",
    "  json_obj = json.loads(resp.text)\n",
    "  #print(json_obj.keys())\n",
    "  #dict_keys(['members', 'list_id', 'total_items', '_links'])\n",
    "  print(\"Totally \", len(json_obj['members']), \"members\")\n",
    "  for i in range(0, len(json_obj['members'])):\n",
    "    print(json_obj['members'][i]['email_address'])"
   ]
  },
  {
   "cell_type": "code",
   "execution_count": null,
   "metadata": {
    "id": "PzVi3eoOCUjN"
   },
   "outputs": [],
   "source": [
    "get_all_users_from_a_list(list_id)"
   ]
  },
  {
   "cell_type": "code",
   "execution_count": 23,
   "metadata": {
    "id": "ZsoUyko8Bs3o"
   },
   "outputs": [],
   "source": [
    "# Add your email to the list.\n",
    "add_user_to_a_list(list_id,\"kno15320@gmail.com\")"
   ]
  },
  {
   "cell_type": "code",
   "execution_count": null,
   "metadata": {
    "id": "-ms_XJccEG06"
   },
   "outputs": [],
   "source": [
    "get_all_users_from_a_list(list_id)"
   ]
  },
  {
   "cell_type": "markdown",
   "metadata": {
    "id": "e1KpIBLXEVXo"
   },
   "source": [
    "## Add our emails to the list.\n",
    "(ryan.ramadhan@ematicsolutions.com, edwin.melendez@ematicsolutions.com, christianto@ematicsolutions.com)"
   ]
  },
  {
   "cell_type": "code",
   "execution_count": 25,
   "metadata": {
    "id": "Z0JKK8QgEI3f"
   },
   "outputs": [],
   "source": [
    "for sub in [\"ryan.ramadhan@ematicsolutions.com\", \"edwin.melendez@ematicsolutions.com\", \"christianto@ematicsolutions.com\"]:\n",
    "  add_user_to_a_list(list_id,sub)"
   ]
  },
  {
   "cell_type": "code",
   "execution_count": 26,
   "metadata": {
    "colab": {
     "base_uri": "https://localhost:8080/"
    },
    "id": "b4_RKkZcErtt",
    "outputId": "405d17fd-070f-4837-f298-c0b051f94394"
   },
   "outputs": [
    {
     "name": "stdout",
     "output_type": "stream",
     "text": [
      "Totally  4 members\n",
      "kno15320@gmail.com\n",
      "ryan.ramadhan@ematicsolutions.com\n",
      "edwin.melendez@ematicsolutions.com\n",
      "christianto@ematicsolutions.com\n"
     ]
    }
   ],
   "source": [
    "get_all_users_from_a_list(list_id)"
   ]
  },
  {
   "cell_type": "markdown",
   "metadata": {
    "id": "HquaHQ9YE0k6"
   },
   "source": [
    "#Send a campaign to the list."
   ]
  },
  {
   "cell_type": "code",
   "execution_count": 29,
   "metadata": {
    "id": "JExr5JjVI-XQ"
   },
   "outputs": [],
   "source": [
    "# query all lists\n",
    "def get_all_campaign():\n",
    "  endpoint = mailchimp_api_root + \"/campaigns\" \n",
    "  resp = requests.get(endpoint, auth=('apikey', MAILCHIMP_API_KEY)) \n",
    "  json_obj = json.loads(resp.text)\n",
    "  #print(type(json_obj))\n",
    "  #print(json_obj.keys())\n",
    "  #dict_keys(['campaigns', 'total_items', '_links'])\n",
    "  \n",
    "  print(\"Total campaigns:\", len(json_obj['campaigns']) )\n",
    "  #print(type(json_obj['campaigns']))#.keys())\n",
    "  #<class 'list'>\n",
    "  for i, cam in enumerate(json_obj['campaigns']):\n",
    "    print(\"id = \", json_obj['campaigns'][i]['id'])\n",
    "  return json_obj, json_obj['campaigns'][-1]['id'] # we use the last campaign to do below operations\n",
    "    "
   ]
  },
  {
   "cell_type": "code",
   "execution_count": 30,
   "metadata": {
    "id": "jRhTuqTGJOor"
   },
   "outputs": [],
   "source": [
    "def add_regular_campaign(list_id):\n",
    "  endpoint = mailchimp_api_root + \"campaigns/\"\n",
    "  # add regular campaign with a list\n",
    "  payload = json.dumps({\"type\": \"regular\", \"recipients\":{ \"list_id\": list_id}, \"settings\": {\"subject_line\":\"new campaign\",\"title\": \"New Campaign\",\"from_name\":\"Kim Lu\", \"reply_to\":\"kno15320@gmail.com\"}})\n",
    "  resp = requests.post(endpoint, auth=('apikey', MAILCHIMP_API_KEY), data=payload) \n"
   ]
  },
  {
   "cell_type": "code",
   "execution_count": 31,
   "metadata": {
    "id": "5YHfVaIAw0jB"
   },
   "outputs": [],
   "source": [
    "def send_campaign(campaign_id):\n",
    "  endpoint = mailchimp_api_root + \"campaigns/\"+campaign_id +\"/actions/send\"\n",
    "  # add regular campaign with a list\n",
    "  #payload = json.dumps({\"type\": \"regular\", \"recipients\":{ \"list_id\": MAILCHIMP_LIST_ID}})\n",
    "  resp = requests.post(endpoint, auth=('apikey', MAILCHIMP_API_KEY)) \n",
    "  json_obj=json.loads(resp.text)\n",
    "  return json_obj"
   ]
  },
  {
   "cell_type": "code",
   "execution_count": null,
   "metadata": {
    "id": "LWrOleVpJCKo"
   },
   "outputs": [],
   "source": [
    "get_all_campaign()"
   ]
  },
  {
   "cell_type": "code",
   "execution_count": 14,
   "metadata": {
    "id": "UCLnILgiJRzq"
   },
   "outputs": [],
   "source": [
    "add_regular_campaign(list_id)"
   ]
  },
  {
   "cell_type": "code",
   "execution_count": 32,
   "metadata": {
    "colab": {
     "base_uri": "https://localhost:8080/"
    },
    "id": "ynGr2CWkMoHA",
    "outputId": "7cda1354-5846-4dd0-ab94-35456a349ca5"
   },
   "outputs": [
    {
     "name": "stdout",
     "output_type": "stream",
     "text": [
      "Total campaigns: 2\n",
      "id =  6511fe8073\n",
      "id =  ae539346db\n"
     ]
    }
   ],
   "source": [
    "_, cam_id =get_all_campaign()"
   ]
  },
  {
   "cell_type": "code",
   "execution_count": 33,
   "metadata": {
    "colab": {
     "base_uri": "https://localhost:8080/"
    },
    "id": "vM7IVj0eM-bb",
    "outputId": "20fc0777-0e52-4cd3-e54f-0467b69d563a"
   },
   "outputs": [
    {
     "name": "stdout",
     "output_type": "stream",
     "text": [
      "now we use campaign id ae539346db\n"
     ]
    }
   ],
   "source": [
    "print(\"now we use campaign id\", cam_id)"
   ]
  },
  {
   "cell_type": "code",
   "execution_count": 35,
   "metadata": {
    "colab": {
     "base_uri": "https://localhost:8080/"
    },
    "id": "dTzBwjo4xFt5",
    "outputId": "47bf4382-89d8-4773-cc58-4cb713f3e839"
   },
   "outputs": [
    {
     "name": "stdout",
     "output_type": "stream",
     "text": [
      "{'type': 'https://mailchimp.com/developer/marketing/docs/errors/', 'title': 'Bad Request', 'status': 400, 'detail': 'Cannot send this campaign because it is currently\" sent\"', 'instance': 'dd16c6f4-826b-8a07-a8aa-c539912e1caa'}\n"
     ]
    }
   ],
   "source": [
    "print(send_campaign(cam_id))"
   ]
  },
  {
   "cell_type": "markdown",
   "metadata": {
    "id": "Hg1emRX0FLTB"
   },
   "source": [
    "## Get campaign info and print output. Get information about a specific campaign."
   ]
  },
  {
   "cell_type": "code",
   "execution_count": 36,
   "metadata": {
    "id": "SGwe2JFME14k"
   },
   "outputs": [],
   "source": [
    "#import pprint\n",
    "def print_campaign(cam_obj):\n",
    "  print(\"===== Campaign Summary =====\")\n",
    "  print('\\narchive_url:')\n",
    "  pprint.pprint(cam_obj.get('archive_url'))\n",
    "\n",
    "  print('\\ncontent_type:')\n",
    "  pprint.pprint(cam_obj.get('content_type'))\n",
    "\n",
    "  print('\\ncreate_time:')\n",
    "  pprint.pprint(cam_obj.get('create_time'))\n",
    "\n",
    "  print('\\ndelivery_status:')\n",
    "  pprint.pprint(cam_obj.get('delivery_status'))\n",
    "\n",
    "  print('\\nemails_sent:')\n",
    "  pprint.pprint(cam_obj.get('emails_sent'))\n",
    "\n",
    "  print('\\nreport_summary')\n",
    "  pprint.pprint(cam_obj.get('report_summary'))\n",
    "\n",
    "\n",
    "  print('\\nrecipients')\n",
    "  pprint.pprint(cam_obj.get('recipients'))"
   ]
  },
  {
   "cell_type": "code",
   "execution_count": 37,
   "metadata": {
    "id": "oLYU7No3FArS"
   },
   "outputs": [],
   "source": [
    "def get_campaign_info(campaign_id):\n",
    "  campaign_id= campaign_id\n",
    "  endpoint = mailchimp_api_root + \"/campaigns/\"+ campaign_id  \n",
    "  resp = requests.get(endpoint, auth=('apikey', MAILCHIMP_API_KEY)) \n",
    "  json_obj = json.loads(resp.text)\n",
    "  print_campaign(json_obj)\n",
    "  #json_obj.keys()\n",
    "  #dict_keys(['id', 'web_id', 'type', 'create_time', 'archive_url', 'long_archive_url', 'status', 'emails_sent', 'send_time', 'content_type', 'needs_block_refresh', 'resendable', 'recipients', 'settings', 'tracking', 'report_summary', 'delivery_status', '_links'])"
   ]
  },
  {
   "cell_type": "code",
   "execution_count": 38,
   "metadata": {
    "colab": {
     "base_uri": "https://localhost:8080/"
    },
    "id": "gOH2Er_FFJln",
    "outputId": "14c1cde3-0c49-4193-97c3-b8509aa918da"
   },
   "outputs": [
    {
     "name": "stdout",
     "output_type": "stream",
     "text": [
      "===== Campaign Summary =====\n",
      "\n",
      "archive_url:\n",
      "'http://eepurl.com/h6N6Ir'\n",
      "\n",
      "content_type:\n",
      "'template'\n",
      "\n",
      "create_time:\n",
      "'2022-07-16T11:22:34+00:00'\n",
      "\n",
      "delivery_status:\n",
      "{'enabled': False}\n",
      "\n",
      "emails_sent:\n",
      "4\n",
      "\n",
      "report_summary\n",
      "{'click_rate': 0,\n",
      " 'clicks': 0,\n",
      " 'ecommerce': {'total_orders': 0, 'total_revenue': 0, 'total_spent': 0},\n",
      " 'open_rate': 0,\n",
      " 'opens': 0,\n",
      " 'subscriber_clicks': 0,\n",
      " 'unique_opens': 0}\n",
      "\n",
      "recipients\n",
      "{'list_id': 'a40f122c8f',\n",
      " 'list_is_active': True,\n",
      " 'list_name': 'Kim',\n",
      " 'recipient_count': 4,\n",
      " 'segment_text': ''}\n"
     ]
    }
   ],
   "source": [
    "get_campaign_info(cam_id)"
   ]
  }
 ],
 "metadata": {
  "colab": {
   "name": "Kim1.ipynb",
   "provenance": []
  },
  "kernelspec": {
   "display_name": "Python 3 (ipykernel)",
   "language": "python",
   "name": "python3"
  },
  "language_info": {
   "codemirror_mode": {
    "name": "ipython",
    "version": 3
   },
   "file_extension": ".py",
   "mimetype": "text/x-python",
   "name": "python",
   "nbconvert_exporter": "python",
   "pygments_lexer": "ipython3",
   "version": "3.10.0"
  }
 },
 "nbformat": 4,
 "nbformat_minor": 1
}
